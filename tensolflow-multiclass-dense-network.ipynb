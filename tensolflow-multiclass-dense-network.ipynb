{
 "cells": [
  {
   "cell_type": "code",
   "execution_count": 1,
   "id": "bfb851df-3e56-420b-afa9-6c2ae9f2cce9",
   "metadata": {},
   "outputs": [
    {
     "name": "stdout",
     "output_type": "stream",
     "text": [
      "Requirement already satisfied: datasets in c:\\users\\hakatashi\\appdata\\local\\programs\\python\\python310\\lib\\site-packages (2.14.3)\n",
      "Requirement already satisfied: scikit-learn in c:\\users\\hakatashi\\appdata\\local\\programs\\python\\python310\\lib\\site-packages (1.3.0)\n",
      "Requirement already satisfied: python-dotenv in c:\\users\\hakatashi\\appdata\\local\\programs\\python\\python310\\lib\\site-packages (1.0.0)\n",
      "Requirement already satisfied: pandas in c:\\users\\hakatashi\\appdata\\local\\programs\\python\\python310\\lib\\site-packages (from datasets) (2.0.3)\n",
      "Requirement already satisfied: pyyaml>=5.1 in c:\\users\\hakatashi\\appdata\\local\\programs\\python\\python310\\lib\\site-packages (from datasets) (6.0.1)\n",
      "Requirement already satisfied: aiohttp in c:\\users\\hakatashi\\appdata\\local\\programs\\python\\python310\\lib\\site-packages (from datasets) (3.8.5)\n",
      "Requirement already satisfied: packaging in c:\\users\\hakatashi\\appdata\\local\\programs\\python\\python310\\lib\\site-packages (from datasets) (23.1)\n",
      "Requirement already satisfied: fsspec[http]>=2021.11.1 in c:\\users\\hakatashi\\appdata\\local\\programs\\python\\python310\\lib\\site-packages (from datasets) (2023.6.0)\n",
      "Requirement already satisfied: requests>=2.19.0 in c:\\users\\hakatashi\\appdata\\local\\programs\\python\\python310\\lib\\site-packages (from datasets) (2.31.0)\n",
      "Requirement already satisfied: numpy>=1.17 in c:\\users\\hakatashi\\appdata\\local\\programs\\python\\python310\\lib\\site-packages (from datasets) (1.25.2)\n",
      "Requirement already satisfied: pyarrow>=8.0.0 in c:\\users\\hakatashi\\appdata\\local\\programs\\python\\python310\\lib\\site-packages (from datasets) (12.0.1)\n",
      "Requirement already satisfied: huggingface-hub<1.0.0,>=0.14.0 in c:\\users\\hakatashi\\appdata\\local\\programs\\python\\python310\\lib\\site-packages (from datasets) (0.16.4)\n",
      "Requirement already satisfied: xxhash in c:\\users\\hakatashi\\appdata\\local\\programs\\python\\python310\\lib\\site-packages (from datasets) (3.3.0)\n",
      "Requirement already satisfied: tqdm>=4.62.1 in c:\\users\\hakatashi\\appdata\\local\\programs\\python\\python310\\lib\\site-packages (from datasets) (4.65.0)\n",
      "Requirement already satisfied: multiprocess in c:\\users\\hakatashi\\appdata\\local\\programs\\python\\python310\\lib\\site-packages (from datasets) (0.70.15)\n",
      "Requirement already satisfied: dill<0.3.8,>=0.3.0 in c:\\users\\hakatashi\\appdata\\local\\programs\\python\\python310\\lib\\site-packages (from datasets) (0.3.7)\n",
      "Requirement already satisfied: scipy>=1.5.0 in c:\\users\\hakatashi\\appdata\\local\\programs\\python\\python310\\lib\\site-packages (from scikit-learn) (1.11.1)\n",
      "Requirement already satisfied: joblib>=1.1.1 in c:\\users\\hakatashi\\appdata\\local\\programs\\python\\python310\\lib\\site-packages (from scikit-learn) (1.3.1)\n",
      "Requirement already satisfied: threadpoolctl>=2.0.0 in c:\\users\\hakatashi\\appdata\\local\\programs\\python\\python310\\lib\\site-packages (from scikit-learn) (3.2.0)\n",
      "Requirement already satisfied: yarl<2.0,>=1.0 in c:\\users\\hakatashi\\appdata\\local\\programs\\python\\python310\\lib\\site-packages (from aiohttp->datasets) (1.9.2)\n",
      "Requirement already satisfied: attrs>=17.3.0 in c:\\users\\hakatashi\\appdata\\local\\programs\\python\\python310\\lib\\site-packages (from aiohttp->datasets) (23.1.0)\n",
      "Requirement already satisfied: async-timeout<5.0,>=4.0.0a3 in c:\\users\\hakatashi\\appdata\\local\\programs\\python\\python310\\lib\\site-packages (from aiohttp->datasets) (4.0.2)\n",
      "Requirement already satisfied: charset-normalizer<4.0,>=2.0 in c:\\users\\hakatashi\\appdata\\local\\programs\\python\\python310\\lib\\site-packages (from aiohttp->datasets) (3.2.0)\n",
      "Requirement already satisfied: frozenlist>=1.1.1 in c:\\users\\hakatashi\\appdata\\local\\programs\\python\\python310\\lib\\site-packages (from aiohttp->datasets) (1.4.0)\n",
      "Requirement already satisfied: aiosignal>=1.1.2 in c:\\users\\hakatashi\\appdata\\local\\programs\\python\\python310\\lib\\site-packages (from aiohttp->datasets) (1.3.1)\n",
      "Requirement already satisfied: multidict<7.0,>=4.5 in c:\\users\\hakatashi\\appdata\\local\\programs\\python\\python310\\lib\\site-packages (from aiohttp->datasets) (6.0.4)\n",
      "Requirement already satisfied: typing-extensions>=3.7.4.3 in c:\\users\\hakatashi\\appdata\\local\\programs\\python\\python310\\lib\\site-packages (from huggingface-hub<1.0.0,>=0.14.0->datasets) (4.7.1)\n",
      "Requirement already satisfied: filelock in c:\\users\\hakatashi\\appdata\\local\\programs\\python\\python310\\lib\\site-packages (from huggingface-hub<1.0.0,>=0.14.0->datasets) (3.12.2)\n",
      "Requirement already satisfied: idna<4,>=2.5 in c:\\users\\hakatashi\\appdata\\local\\programs\\python\\python310\\lib\\site-packages (from requests>=2.19.0->datasets) (3.4)\n",
      "Requirement already satisfied: certifi>=2017.4.17 in c:\\users\\hakatashi\\appdata\\local\\programs\\python\\python310\\lib\\site-packages (from requests>=2.19.0->datasets) (2023.7.22)\n",
      "Requirement already satisfied: urllib3<3,>=1.21.1 in c:\\users\\hakatashi\\appdata\\local\\programs\\python\\python310\\lib\\site-packages (from requests>=2.19.0->datasets) (2.0.4)\n",
      "Requirement already satisfied: colorama in c:\\users\\hakatashi\\appdata\\local\\programs\\python\\python310\\lib\\site-packages (from tqdm>=4.62.1->datasets) (0.4.6)\n",
      "Requirement already satisfied: tzdata>=2022.1 in c:\\users\\hakatashi\\appdata\\local\\programs\\python\\python310\\lib\\site-packages (from pandas->datasets) (2023.3)\n",
      "Requirement already satisfied: python-dateutil>=2.8.2 in c:\\users\\hakatashi\\appdata\\local\\programs\\python\\python310\\lib\\site-packages (from pandas->datasets) (2.8.2)\n",
      "Requirement already satisfied: pytz>=2020.1 in c:\\users\\hakatashi\\appdata\\local\\programs\\python\\python310\\lib\\site-packages (from pandas->datasets) (2023.3)\n",
      "Requirement already satisfied: six>=1.5 in c:\\users\\hakatashi\\appdata\\local\\programs\\python\\python310\\lib\\site-packages (from python-dateutil>=2.8.2->pandas->datasets) (1.16.0)\n"
     ]
    },
    {
     "name": "stderr",
     "output_type": "stream",
     "text": [
      "\n",
      "[notice] A new release of pip is available: 23.0.1 -> 23.2.1\n",
      "[notice] To update, run: python.exe -m pip install --upgrade pip\n"
     ]
    }
   ],
   "source": [
    "!pip install datasets scikit-learn python-dotenv"
   ]
  },
  {
   "cell_type": "code",
   "execution_count": 2,
   "id": "d09a0ddc-27f4-4fb5-b2f8-5daee1d33ca6",
   "metadata": {},
   "outputs": [
    {
     "name": "stdout",
     "output_type": "stream",
     "text": [
      "Token will not been saved to git credential helper. Pass `add_to_git_credential=True` if you want to set the git credential as well.\n",
      "Token is valid (permission: write).\n",
      "Your token has been saved to C:\\Users\\hakatashi\\.cache\\huggingface\\token\n",
      "Login successful\n"
     ]
    }
   ],
   "source": [
    "from huggingface_hub import login\n",
    "from dotenv import dotenv_values\n",
    "\n",
    "login(token=dotenv_values('.env')['HUGGING_FACE_TOKEN'])"
   ]
  },
  {
   "cell_type": "code",
   "execution_count": 3,
   "id": "a835ff19-8748-4f7a-a641-34cd2762442f",
   "metadata": {},
   "outputs": [],
   "source": [
    "from datasets import load_dataset\n",
    "\n",
    "dataset = load_dataset(\"hakatashi/hakatashi-pixiv-bookmark-deepdanbooru-private\")"
   ]
  },
  {
   "cell_type": "code",
   "execution_count": 4,
   "id": "e66c4a95-fdd2-4bf5-8ffa-54ebedd39cc8",
   "metadata": {},
   "outputs": [
    {
     "data": {
      "text/plain": [
       "DatasetDict({\n",
       "    test: Dataset({\n",
       "        features: ['key', 'tag_probs', 'class'],\n",
       "        num_rows: 59707\n",
       "    })\n",
       "    train: Dataset({\n",
       "        features: ['key', 'tag_probs', 'class'],\n",
       "        num_rows: 179121\n",
       "    })\n",
       "    validation: Dataset({\n",
       "        features: ['key', 'tag_probs', 'class'],\n",
       "        num_rows: 59708\n",
       "    })\n",
       "})"
      ]
     },
     "execution_count": 4,
     "metadata": {},
     "output_type": "execute_result"
    }
   ],
   "source": [
    "dataset"
   ]
  },
  {
   "cell_type": "code",
   "execution_count": 5,
   "id": "a2d9890b-3a9b-4823-815f-05ac8df733da",
   "metadata": {},
   "outputs": [
    {
     "data": {
      "text/plain": [
       "{'key': Value(dtype='string', id=None),\n",
       " 'tag_probs': Sequence(feature=Value(dtype='float32', id=None), length=-1, id=None),\n",
       " 'class': ClassLabel(names=['not_bookmarked', 'bookmarked_public', 'bookmarked_private'], id=None)}"
      ]
     },
     "execution_count": 5,
     "metadata": {},
     "output_type": "execute_result"
    }
   ],
   "source": [
    "dataset['test'].features"
   ]
  },
  {
   "cell_type": "code",
   "execution_count": 6,
   "id": "68b8d7ba-eb6d-440e-9170-52108261e485",
   "metadata": {},
   "outputs": [],
   "source": [
    "np_dataset = dataset.with_format(type='numpy')"
   ]
  },
  {
   "cell_type": "code",
   "execution_count": 7,
   "id": "e7d23775-fc4f-4889-b35c-d987461dea89",
   "metadata": {},
   "outputs": [],
   "source": [
    "train_data = np_dataset['train'][:]\n",
    "test_data = np_dataset['test'][:]\n",
    "validation_data = np_dataset['validation'][:]"
   ]
  }
 ],
 "metadata": {
  "kernelspec": {
   "display_name": "Python 3 (ipykernel)",
   "language": "python",
   "name": "python3"
  },
  "language_info": {
   "codemirror_mode": {
    "name": "ipython",
    "version": 3
   },
   "file_extension": ".py",
   "mimetype": "text/x-python",
   "name": "python",
   "nbconvert_exporter": "python",
   "pygments_lexer": "ipython3",
   "version": "3.10.11"
  }
 },
 "nbformat": 4,
 "nbformat_minor": 5
}
