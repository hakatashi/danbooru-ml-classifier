{
 "cells": [
  {
   "cell_type": "code",
   "execution_count": 1,
   "id": "5fd345a4-f4f7-400d-b4eb-4a6397a53ad8",
   "metadata": {
    "tags": []
   },
   "outputs": [
    {
     "data": {
      "text/plain": [
       "True"
      ]
     },
     "execution_count": 1,
     "metadata": {},
     "output_type": "execute_result"
    }
   ],
   "source": [
    "import torch\n",
    "torch.cuda.is_available()"
   ]
  },
  {
   "cell_type": "code",
   "execution_count": 2,
   "id": "c96b39be-7d93-4e7c-8e4e-10d5c028b8df",
   "metadata": {
    "tags": []
   },
   "outputs": [
    {
     "name": "stdout",
     "output_type": "stream",
     "text": [
      "Token will not been saved to git credential helper. Pass `add_to_git_credential=True` if you want to set the git credential as well.\n",
      "Token is valid (permission: write).\n",
      "Your token has been saved to /home/hakatashi/.cache/huggingface/token\n",
      "Login successful\n"
     ]
    }
   ],
   "source": [
    "from huggingface_hub import login\n",
    "from dotenv import dotenv_values\n",
    "\n",
    "login(token=dotenv_values('.env')['HUGGING_FACE_TOKEN'])"
   ]
  },
  {
   "cell_type": "code",
   "execution_count": 3,
   "id": "427c7773-5047-4bbc-a9f7-ce24a46f963f",
   "metadata": {
    "tags": []
   },
   "outputs": [
    {
     "name": "stderr",
     "output_type": "stream",
     "text": [
      "Found cached dataset parquet (/mnt/f/.cache/hakatashi___parquet/hakatashi--hakatashi-pixiv-bookmark-deepdanbooru-private-dc6bd44c53eea7d4/0.0.0/2a3b91fbd88a2c90d1dbbb32b460cf621d31bd5b05b934492fdef7d8d6f236ec)\n"
     ]
    },
    {
     "data": {
      "application/vnd.jupyter.widget-view+json": {
       "model_id": "3bc1a88ad9114eef814546d7db298cca",
       "version_major": 2,
       "version_minor": 0
      },
      "text/plain": [
       "  0%|          | 0/3 [00:00<?, ?it/s]"
      ]
     },
     "metadata": {},
     "output_type": "display_data"
    }
   ],
   "source": [
    "from datasets import load_dataset\n",
    "\n",
    "dataset = load_dataset(\"hakatashi/hakatashi-pixiv-bookmark-deepdanbooru-private\", cache_dir='/mnt/f/.cache')"
   ]
  },
  {
   "cell_type": "code",
   "execution_count": 4,
   "id": "fe8ce974-0102-485d-be97-691ff7e776e5",
   "metadata": {
    "tags": []
   },
   "outputs": [
    {
     "data": {
      "text/plain": [
       "DatasetDict({\n",
       "    train: Dataset({\n",
       "        features: ['key', 'tag_probs', 'class'],\n",
       "        num_rows: 179121\n",
       "    })\n",
       "    validation: Dataset({\n",
       "        features: ['key', 'tag_probs', 'class'],\n",
       "        num_rows: 59708\n",
       "    })\n",
       "    test: Dataset({\n",
       "        features: ['key', 'tag_probs', 'class'],\n",
       "        num_rows: 59707\n",
       "    })\n",
       "})"
      ]
     },
     "execution_count": 4,
     "metadata": {},
     "output_type": "execute_result"
    }
   ],
   "source": [
    "dataset"
   ]
  },
  {
   "cell_type": "code",
   "execution_count": 5,
   "id": "5dc151d1-2424-418b-a76b-16009e5e1270",
   "metadata": {
    "tags": []
   },
   "outputs": [],
   "source": [
    "device = torch.device('cuda')\n",
    "torch_dataset = dataset.with_format(type='torch', device=device)"
   ]
  },
  {
   "cell_type": "code",
   "execution_count": 6,
   "id": "a9a1b556-6069-4dfb-8420-603c45de4b3b",
   "metadata": {
    "tags": []
   },
   "outputs": [],
   "source": [
    "import torch.nn.functional as F"
   ]
  },
  {
   "cell_type": "code",
   "execution_count": 7,
   "id": "cd9db4e1-6701-4c88-9a9f-48f70f267de6",
   "metadata": {
    "tags": []
   },
   "outputs": [],
   "source": [
    "x = torch_dataset['train']['tag_probs']\n",
    "y = F.one_hot(torch_dataset['train']['class']).float()"
   ]
  },
  {
   "cell_type": "code",
   "execution_count": 8,
   "id": "92af5b9d-964d-458b-adeb-ca8bc1055800",
   "metadata": {
    "tags": []
   },
   "outputs": [
    {
     "name": "stdout",
     "output_type": "stream",
     "text": [
      "[Epoch 0] Loss: 0.359\n",
      "[Epoch 100] Loss: 0.165\n",
      "[Epoch 200] Loss: 0.138\n",
      "[Epoch 300] Loss: 0.128\n",
      "[Epoch 400] Loss: 0.120\n",
      "[Epoch 500] Loss: 0.113\n",
      "[Epoch 600] Loss: 0.109\n",
      "[Epoch 700] Loss: 0.105\n",
      "[Epoch 800] Loss: 0.103\n",
      "[Epoch 900] Loss: 0.101\n",
      "[Epoch 1000] Loss: 0.099\n",
      "[Epoch 1100] Loss: 0.098\n",
      "[Epoch 1200] Loss: 0.097\n",
      "[Epoch 1300] Loss: 0.097\n",
      "[Epoch 1400] Loss: 0.096\n",
      "[Epoch 1500] Loss: 0.095\n",
      "[Epoch 1600] Loss: 0.094\n",
      "[Epoch 1700] Loss: 0.094\n",
      "[Epoch 1800] Loss: 0.093\n",
      "[Epoch 1900] Loss: 0.093\n",
      "[Epoch 2000] Loss: 0.092\n",
      "[Epoch 2100] Loss: 0.092\n",
      "[Epoch 2200] Loss: 0.091\n",
      "[Epoch 2300] Loss: 0.091\n",
      "[Epoch 2400] Loss: 0.090\n",
      "[Epoch 2500] Loss: 0.090\n",
      "[Epoch 2600] Loss: 0.090\n",
      "[Epoch 2700] Loss: 0.089\n",
      "[Epoch 2800] Loss: 0.089\n",
      "[Epoch 2900] Loss: 0.089\n",
      "CPU times: user 3min 59s, sys: 1min 57s, total: 5min 57s\n",
      "Wall time: 5min 56s\n"
     ]
    }
   ],
   "source": [
    "%%time\n",
    "\n",
    "import torch.nn as nn\n",
    "import torch.optim as optim\n",
    "\n",
    "class Network(nn.Module):\n",
    "    def __init__(self):\n",
    "        super(Network, self).__init__()\n",
    "        self.middle_layer = nn.Linear(6000, 128, device=device)\n",
    "        self.out_layer = nn.Linear(128, 3, device=device)\n",
    "\n",
    "    def forward(self, x):\n",
    "        x = F.relu(self.middle_layer(x))\n",
    "        x = self.out_layer(x)\n",
    "        return x\n",
    "\n",
    "network = Network()\n",
    "optimizer = optim.SGD(network.parameters(), lr=0.01)\n",
    "criterion = nn.MSELoss()\n",
    "\n",
    "for i in range(3000):\n",
    "    optimizer.zero_grad()\n",
    "    output = network(x)\n",
    "    loss = criterion(output, y)\n",
    "    loss.backward()\n",
    "    optimizer.step()\n",
    "    \n",
    "    if i % 100 == 0:\n",
    "        print(f'[Epoch {i}] Loss: {loss.item():.3f}')"
   ]
  },
  {
   "cell_type": "code",
   "execution_count": 9,
   "id": "6c576949-e250-4a7c-acb4-7dd3fec8a303",
   "metadata": {
    "tags": []
   },
   "outputs": [],
   "source": [
    "torch.save(network.state_dict(), 'torch-multiclass-onehot-shallow-network')"
   ]
  },
  {
   "cell_type": "code",
   "execution_count": 10,
   "id": "ee09a4f1-82e5-4521-b4ef-32662390ecb0",
   "metadata": {
    "tags": []
   },
   "outputs": [],
   "source": [
    "x_test = torch_dataset['test']['tag_probs']\n",
    "y_test = torch_dataset['test']['class']"
   ]
  },
  {
   "cell_type": "code",
   "execution_count": 11,
   "id": "9f2edfd1-2071-40a1-bc2a-40ff9bf0f5c9",
   "metadata": {
    "tags": []
   },
   "outputs": [],
   "source": [
    "y_test_predict = network(x_test)"
   ]
  },
  {
   "cell_type": "code",
   "execution_count": 12,
   "id": "ed5c4873-783d-4a5f-b413-4586cb1eed00",
   "metadata": {
    "tags": []
   },
   "outputs": [],
   "source": [
    "_, y_test_predict_class = torch.max(y_test_predict.data, 1)"
   ]
  },
  {
   "cell_type": "code",
   "execution_count": 13,
   "id": "9065c79e-4154-4109-9193-148966274dd6",
   "metadata": {
    "tags": []
   },
   "outputs": [
    {
     "name": "stdout",
     "output_type": "stream",
     "text": [
      "confusion_matrix:\n",
      "tensor([[38134,  2488,    76],\n",
      "        [ 4352, 10143,    24],\n",
      "        [ 2726,  1001,   763]], device='cuda:0')\n",
      "accuracy_score: 0.8213441967964172\n",
      "precision_score: 0.8238773345947266\n",
      "recall_score: 0.6018447875976562\n",
      "f1_score: 0.6311513781547546\n"
     ]
    }
   ],
   "source": [
    "from torcheval.metrics.functional import multiclass_accuracy, multiclass_confusion_matrix, multiclass_precision, multiclass_f1_score, multiclass_recall\n",
    "\n",
    "print('confusion_matrix:')\n",
    "print(multiclass_confusion_matrix(y_test_predict_class, y_test, num_classes=3))\n",
    "print(f'accuracy_score: {multiclass_accuracy(y_test_predict_class, y_test)}')\n",
    "print(f'precision_score: {multiclass_precision(y_test_predict_class, y_test, average=\"macro\", num_classes=3)}')\n",
    "print(f'recall_score: {multiclass_recall(y_test_predict_class, y_test, average=\"macro\", num_classes=3)}')\n",
    "print(f'f1_score: {multiclass_f1_score(y_test_predict_class, y_test, average=\"macro\", num_classes=3)}')"
   ]
  },
  {
   "cell_type": "code",
   "execution_count": null,
   "id": "12f22851-4562-4f14-8739-af00be5b4ffa",
   "metadata": {},
   "outputs": [],
   "source": []
  }
 ],
 "metadata": {
  "kernelspec": {
   "display_name": "Python 3 (ipykernel)",
   "language": "python",
   "name": "python3"
  },
  "language_info": {
   "codemirror_mode": {
    "name": "ipython",
    "version": 3
   },
   "file_extension": ".py",
   "mimetype": "text/x-python",
   "name": "python",
   "nbconvert_exporter": "python",
   "pygments_lexer": "ipython3",
   "version": "3.11.4"
  }
 },
 "nbformat": 4,
 "nbformat_minor": 5
}
