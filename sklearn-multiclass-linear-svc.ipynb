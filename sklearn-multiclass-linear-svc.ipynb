{
 "cells": [
  {
   "cell_type": "code",
   "execution_count": 1,
   "id": "bfb851df-3e56-420b-afa9-6c2ae9f2cce9",
   "metadata": {},
   "outputs": [
    {
     "name": "stdout",
     "output_type": "stream",
     "text": [
      "Requirement already satisfied: datasets in c:\\users\\hakatashi\\appdata\\local\\programs\\python\\python310\\lib\\site-packages (2.14.3)\n",
      "Requirement already satisfied: scikit-learn in c:\\users\\hakatashi\\appdata\\local\\programs\\python\\python310\\lib\\site-packages (1.3.0)\n",
      "Collecting python-dotenv\n",
      "  Downloading python_dotenv-1.0.0-py3-none-any.whl (19 kB)\n",
      "Requirement already satisfied: fsspec[http]>=2021.11.1 in c:\\users\\hakatashi\\appdata\\local\\programs\\python\\python310\\lib\\site-packages (from datasets) (2023.6.0)\n",
      "Requirement already satisfied: xxhash in c:\\users\\hakatashi\\appdata\\local\\programs\\python\\python310\\lib\\site-packages (from datasets) (3.3.0)\n",
      "Requirement already satisfied: requests>=2.19.0 in c:\\users\\hakatashi\\appdata\\local\\programs\\python\\python310\\lib\\site-packages (from datasets) (2.31.0)\n",
      "Requirement already satisfied: huggingface-hub<1.0.0,>=0.14.0 in c:\\users\\hakatashi\\appdata\\local\\programs\\python\\python310\\lib\\site-packages (from datasets) (0.16.4)\n",
      "Requirement already satisfied: dill<0.3.8,>=0.3.0 in c:\\users\\hakatashi\\appdata\\local\\programs\\python\\python310\\lib\\site-packages (from datasets) (0.3.7)\n",
      "Requirement already satisfied: aiohttp in c:\\users\\hakatashi\\appdata\\local\\programs\\python\\python310\\lib\\site-packages (from datasets) (3.8.5)\n",
      "Requirement already satisfied: numpy>=1.17 in c:\\users\\hakatashi\\appdata\\local\\programs\\python\\python310\\lib\\site-packages (from datasets) (1.25.2)\n",
      "Requirement already satisfied: pyyaml>=5.1 in c:\\users\\hakatashi\\appdata\\local\\programs\\python\\python310\\lib\\site-packages (from datasets) (6.0.1)\n",
      "Requirement already satisfied: multiprocess in c:\\users\\hakatashi\\appdata\\local\\programs\\python\\python310\\lib\\site-packages (from datasets) (0.70.15)\n",
      "Requirement already satisfied: pandas in c:\\users\\hakatashi\\appdata\\local\\programs\\python\\python310\\lib\\site-packages (from datasets) (2.0.3)\n",
      "Requirement already satisfied: pyarrow>=8.0.0 in c:\\users\\hakatashi\\appdata\\local\\programs\\python\\python310\\lib\\site-packages (from datasets) (12.0.1)\n",
      "Requirement already satisfied: tqdm>=4.62.1 in c:\\users\\hakatashi\\appdata\\local\\programs\\python\\python310\\lib\\site-packages (from datasets) (4.65.0)\n",
      "Requirement already satisfied: packaging in c:\\users\\hakatashi\\appdata\\local\\programs\\python\\python310\\lib\\site-packages (from datasets) (23.1)\n",
      "Requirement already satisfied: threadpoolctl>=2.0.0 in c:\\users\\hakatashi\\appdata\\local\\programs\\python\\python310\\lib\\site-packages (from scikit-learn) (3.2.0)\n",
      "Requirement already satisfied: scipy>=1.5.0 in c:\\users\\hakatashi\\appdata\\local\\programs\\python\\python310\\lib\\site-packages (from scikit-learn) (1.11.1)\n",
      "Requirement already satisfied: joblib>=1.1.1 in c:\\users\\hakatashi\\appdata\\local\\programs\\python\\python310\\lib\\site-packages (from scikit-learn) (1.3.1)\n",
      "Requirement already satisfied: async-timeout<5.0,>=4.0.0a3 in c:\\users\\hakatashi\\appdata\\local\\programs\\python\\python310\\lib\\site-packages (from aiohttp->datasets) (4.0.2)\n",
      "Requirement already satisfied: charset-normalizer<4.0,>=2.0 in c:\\users\\hakatashi\\appdata\\local\\programs\\python\\python310\\lib\\site-packages (from aiohttp->datasets) (3.2.0)\n",
      "Requirement already satisfied: frozenlist>=1.1.1 in c:\\users\\hakatashi\\appdata\\local\\programs\\python\\python310\\lib\\site-packages (from aiohttp->datasets) (1.4.0)\n",
      "Requirement already satisfied: attrs>=17.3.0 in c:\\users\\hakatashi\\appdata\\local\\programs\\python\\python310\\lib\\site-packages (from aiohttp->datasets) (23.1.0)\n",
      "Requirement already satisfied: aiosignal>=1.1.2 in c:\\users\\hakatashi\\appdata\\local\\programs\\python\\python310\\lib\\site-packages (from aiohttp->datasets) (1.3.1)\n",
      "Requirement already satisfied: multidict<7.0,>=4.5 in c:\\users\\hakatashi\\appdata\\local\\programs\\python\\python310\\lib\\site-packages (from aiohttp->datasets) (6.0.4)\n",
      "Requirement already satisfied: yarl<2.0,>=1.0 in c:\\users\\hakatashi\\appdata\\local\\programs\\python\\python310\\lib\\site-packages (from aiohttp->datasets) (1.9.2)\n",
      "Requirement already satisfied: typing-extensions>=3.7.4.3 in c:\\users\\hakatashi\\appdata\\local\\programs\\python\\python310\\lib\\site-packages (from huggingface-hub<1.0.0,>=0.14.0->datasets) (4.7.1)\n",
      "Requirement already satisfied: filelock in c:\\users\\hakatashi\\appdata\\local\\programs\\python\\python310\\lib\\site-packages (from huggingface-hub<1.0.0,>=0.14.0->datasets) (3.12.2)\n",
      "Requirement already satisfied: certifi>=2017.4.17 in c:\\users\\hakatashi\\appdata\\local\\programs\\python\\python310\\lib\\site-packages (from requests>=2.19.0->datasets) (2023.7.22)\n",
      "Requirement already satisfied: urllib3<3,>=1.21.1 in c:\\users\\hakatashi\\appdata\\local\\programs\\python\\python310\\lib\\site-packages (from requests>=2.19.0->datasets) (2.0.4)\n",
      "Requirement already satisfied: idna<4,>=2.5 in c:\\users\\hakatashi\\appdata\\local\\programs\\python\\python310\\lib\\site-packages (from requests>=2.19.0->datasets) (3.4)\n",
      "Requirement already satisfied: colorama in c:\\users\\hakatashi\\appdata\\local\\programs\\python\\python310\\lib\\site-packages (from tqdm>=4.62.1->datasets) (0.4.6)\n",
      "Requirement already satisfied: python-dateutil>=2.8.2 in c:\\users\\hakatashi\\appdata\\local\\programs\\python\\python310\\lib\\site-packages (from pandas->datasets) (2.8.2)\n",
      "Requirement already satisfied: pytz>=2020.1 in c:\\users\\hakatashi\\appdata\\local\\programs\\python\\python310\\lib\\site-packages (from pandas->datasets) (2023.3)\n",
      "Requirement already satisfied: tzdata>=2022.1 in c:\\users\\hakatashi\\appdata\\local\\programs\\python\\python310\\lib\\site-packages (from pandas->datasets) (2023.3)\n",
      "Requirement already satisfied: six>=1.5 in c:\\users\\hakatashi\\appdata\\local\\programs\\python\\python310\\lib\\site-packages (from python-dateutil>=2.8.2->pandas->datasets) (1.16.0)\n",
      "Installing collected packages: python-dotenv\n",
      "Successfully installed python-dotenv-1.0.0\n"
     ]
    },
    {
     "name": "stderr",
     "output_type": "stream",
     "text": [
      "\n",
      "[notice] A new release of pip is available: 23.0.1 -> 23.2.1\n",
      "[notice] To update, run: python.exe -m pip install --upgrade pip\n"
     ]
    }
   ],
   "source": [
    "!pip install datasets scikit-learn python-dotenv"
   ]
  },
  {
   "cell_type": "code",
   "execution_count": 2,
   "id": "d09a0ddc-27f4-4fb5-b2f8-5daee1d33ca6",
   "metadata": {},
   "outputs": [
    {
     "name": "stdout",
     "output_type": "stream",
     "text": [
      "Token will not been saved to git credential helper. Pass `add_to_git_credential=True` if you want to set the git credential as well.\n",
      "Token is valid (permission: write).\n",
      "Your token has been saved to C:\\Users\\hakatashi\\.cache\\huggingface\\token\n",
      "Login successful\n"
     ]
    }
   ],
   "source": [
    "from huggingface_hub import login\n",
    "from dotenv import dotenv_values\n",
    "\n",
    "login(token=dotenv_values('.env')['HUGGING_FACE_TOKEN'])"
   ]
  },
  {
   "cell_type": "code",
   "execution_count": 3,
   "id": "a835ff19-8748-4f7a-a641-34cd2762442f",
   "metadata": {},
   "outputs": [],
   "source": [
    "from datasets import load_dataset\n",
    "\n",
    "dataset = load_dataset(\"hakatashi/hakatashi-pixiv-bookmark-deepdanbooru-private\")"
   ]
  },
  {
   "cell_type": "code",
   "execution_count": 4,
   "id": "e66c4a95-fdd2-4bf5-8ffa-54ebedd39cc8",
   "metadata": {},
   "outputs": [
    {
     "data": {
      "text/plain": [
       "DatasetDict({\n",
       "    test: Dataset({\n",
       "        features: ['key', 'tag_probs', 'class'],\n",
       "        num_rows: 59707\n",
       "    })\n",
       "    train: Dataset({\n",
       "        features: ['key', 'tag_probs', 'class'],\n",
       "        num_rows: 179121\n",
       "    })\n",
       "    validation: Dataset({\n",
       "        features: ['key', 'tag_probs', 'class'],\n",
       "        num_rows: 59708\n",
       "    })\n",
       "})"
      ]
     },
     "execution_count": 4,
     "metadata": {},
     "output_type": "execute_result"
    }
   ],
   "source": [
    "dataset"
   ]
  },
  {
   "cell_type": "code",
   "execution_count": 5,
   "id": "a2d9890b-3a9b-4823-815f-05ac8df733da",
   "metadata": {},
   "outputs": [
    {
     "data": {
      "text/plain": [
       "{'key': Value(dtype='string', id=None),\n",
       " 'tag_probs': Sequence(feature=Value(dtype='float32', id=None), length=-1, id=None),\n",
       " 'class': ClassLabel(names=['not_bookmarked', 'bookmarked_public', 'bookmarked_private'], id=None)}"
      ]
     },
     "execution_count": 5,
     "metadata": {},
     "output_type": "execute_result"
    }
   ],
   "source": [
    "dataset['test'].features"
   ]
  },
  {
   "cell_type": "code",
   "execution_count": 6,
   "id": "68b8d7ba-eb6d-440e-9170-52108261e485",
   "metadata": {},
   "outputs": [],
   "source": [
    "np_dataset = dataset.with_format(type='numpy')"
   ]
  },
  {
   "cell_type": "code",
   "execution_count": 7,
   "id": "e7d23775-fc4f-4889-b35c-d987461dea89",
   "metadata": {},
   "outputs": [],
   "source": [
    "train_data = np_dataset['train'][:]\n",
    "test_data = np_dataset['test'][:]\n",
    "validation_data = np_dataset['validation'][:]"
   ]
  },
  {
   "cell_type": "code",
   "execution_count": 8,
   "id": "a77828e6-91db-4e43-8734-f72f4d52ae64",
   "metadata": {},
   "outputs": [
    {
     "name": "stderr",
     "output_type": "stream",
     "text": [
      "C:\\Users\\hakatashi\\AppData\\Local\\Programs\\Python\\Python310\\lib\\site-packages\\sklearn\\svm\\_classes.py:32: FutureWarning: The default value of `dual` will change from `True` to `'auto'` in 1.5. Set the value of `dual` explicitly to suppress the warning.\n",
      "  warnings.warn(\n"
     ]
    },
    {
     "name": "stdout",
     "output_type": "stream",
     "text": [
      "[LibLinear]"
     ]
    },
    {
     "data": {
      "text/html": [
       "<style>#sk-container-id-1 {color: black;}#sk-container-id-1 pre{padding: 0;}#sk-container-id-1 div.sk-toggleable {background-color: white;}#sk-container-id-1 label.sk-toggleable__label {cursor: pointer;display: block;width: 100%;margin-bottom: 0;padding: 0.3em;box-sizing: border-box;text-align: center;}#sk-container-id-1 label.sk-toggleable__label-arrow:before {content: \"▸\";float: left;margin-right: 0.25em;color: #696969;}#sk-container-id-1 label.sk-toggleable__label-arrow:hover:before {color: black;}#sk-container-id-1 div.sk-estimator:hover label.sk-toggleable__label-arrow:before {color: black;}#sk-container-id-1 div.sk-toggleable__content {max-height: 0;max-width: 0;overflow: hidden;text-align: left;background-color: #f0f8ff;}#sk-container-id-1 div.sk-toggleable__content pre {margin: 0.2em;color: black;border-radius: 0.25em;background-color: #f0f8ff;}#sk-container-id-1 input.sk-toggleable__control:checked~div.sk-toggleable__content {max-height: 200px;max-width: 100%;overflow: auto;}#sk-container-id-1 input.sk-toggleable__control:checked~label.sk-toggleable__label-arrow:before {content: \"▾\";}#sk-container-id-1 div.sk-estimator input.sk-toggleable__control:checked~label.sk-toggleable__label {background-color: #d4ebff;}#sk-container-id-1 div.sk-label input.sk-toggleable__control:checked~label.sk-toggleable__label {background-color: #d4ebff;}#sk-container-id-1 input.sk-hidden--visually {border: 0;clip: rect(1px 1px 1px 1px);clip: rect(1px, 1px, 1px, 1px);height: 1px;margin: -1px;overflow: hidden;padding: 0;position: absolute;width: 1px;}#sk-container-id-1 div.sk-estimator {font-family: monospace;background-color: #f0f8ff;border: 1px dotted black;border-radius: 0.25em;box-sizing: border-box;margin-bottom: 0.5em;}#sk-container-id-1 div.sk-estimator:hover {background-color: #d4ebff;}#sk-container-id-1 div.sk-parallel-item::after {content: \"\";width: 100%;border-bottom: 1px solid gray;flex-grow: 1;}#sk-container-id-1 div.sk-label:hover label.sk-toggleable__label {background-color: #d4ebff;}#sk-container-id-1 div.sk-serial::before {content: \"\";position: absolute;border-left: 1px solid gray;box-sizing: border-box;top: 0;bottom: 0;left: 50%;z-index: 0;}#sk-container-id-1 div.sk-serial {display: flex;flex-direction: column;align-items: center;background-color: white;padding-right: 0.2em;padding-left: 0.2em;position: relative;}#sk-container-id-1 div.sk-item {position: relative;z-index: 1;}#sk-container-id-1 div.sk-parallel {display: flex;align-items: stretch;justify-content: center;background-color: white;position: relative;}#sk-container-id-1 div.sk-item::before, #sk-container-id-1 div.sk-parallel-item::before {content: \"\";position: absolute;border-left: 1px solid gray;box-sizing: border-box;top: 0;bottom: 0;left: 50%;z-index: -1;}#sk-container-id-1 div.sk-parallel-item {display: flex;flex-direction: column;z-index: 1;position: relative;background-color: white;}#sk-container-id-1 div.sk-parallel-item:first-child::after {align-self: flex-end;width: 50%;}#sk-container-id-1 div.sk-parallel-item:last-child::after {align-self: flex-start;width: 50%;}#sk-container-id-1 div.sk-parallel-item:only-child::after {width: 0;}#sk-container-id-1 div.sk-dashed-wrapped {border: 1px dashed gray;margin: 0 0.4em 0.5em 0.4em;box-sizing: border-box;padding-bottom: 0.4em;background-color: white;}#sk-container-id-1 div.sk-label label {font-family: monospace;font-weight: bold;display: inline-block;line-height: 1.2em;}#sk-container-id-1 div.sk-label-container {text-align: center;}#sk-container-id-1 div.sk-container {/* jupyter's `normalize.less` sets `[hidden] { display: none; }` but bootstrap.min.css set `[hidden] { display: none !important; }` so we also need the `!important` here to be able to override the default hidden behavior on the sphinx rendered scikit-learn.org. See: https://github.com/scikit-learn/scikit-learn/issues/21755 */display: inline-block !important;position: relative;}#sk-container-id-1 div.sk-text-repr-fallback {display: none;}</style><div id=\"sk-container-id-1\" class=\"sk-top-container\"><div class=\"sk-text-repr-fallback\"><pre>LinearSVC(verbose=1)</pre><b>In a Jupyter environment, please rerun this cell to show the HTML representation or trust the notebook. <br />On GitHub, the HTML representation is unable to render, please try loading this page with nbviewer.org.</b></div><div class=\"sk-container\" hidden><div class=\"sk-item\"><div class=\"sk-estimator sk-toggleable\"><input class=\"sk-toggleable__control sk-hidden--visually\" id=\"sk-estimator-id-1\" type=\"checkbox\" checked><label for=\"sk-estimator-id-1\" class=\"sk-toggleable__label sk-toggleable__label-arrow\">LinearSVC</label><div class=\"sk-toggleable__content\"><pre>LinearSVC(verbose=1)</pre></div></div></div></div></div>"
      ],
      "text/plain": [
       "LinearSVC(verbose=1)"
      ]
     },
     "execution_count": 8,
     "metadata": {},
     "output_type": "execute_result"
    }
   ],
   "source": [
    "from sklearn import svm\n",
    "svc = svm.LinearSVC(verbose=1)\n",
    "svc.max_iter = 1000\n",
    "svc.fit(train_data['tag_probs'], train_data['class'])"
   ]
  },
  {
   "cell_type": "code",
   "execution_count": 9,
   "id": "331a56ec-90cc-4e48-9b6e-6fa10006662c",
   "metadata": {},
   "outputs": [
    {
     "data": {
      "text/plain": [
       "0.8756092250489892"
      ]
     },
     "execution_count": 9,
     "metadata": {},
     "output_type": "execute_result"
    }
   ],
   "source": [
    "svc.score(test_data['tag_probs'], test_data['class'])"
   ]
  },
  {
   "cell_type": "code",
   "execution_count": 14,
   "id": "2762167c-b7c3-4631-9d42-f35137af8297",
   "metadata": {},
   "outputs": [],
   "source": [
    "from joblib import load\n",
    "svc = load('sklearn-multiclass-linear-svc.joblib')\n",
    "from datasets import load_dataset\n",
    "dataset = load_dataset(\"hakatashi/hakatashi-pixiv-bookmark-deepdanbooru-private\")\n",
    "np_dataset = dataset.with_format(type='numpy')\n",
    "test_data = np_dataset['test'][:]\n",
    "validation_data = np_dataset['validation'][:]"
   ]
  },
  {
   "cell_type": "code",
   "execution_count": 15,
   "id": "b5f936bf-1db7-47ae-b5d7-dc72d4a5db8b",
   "metadata": {},
   "outputs": [],
   "source": [
    "predicted_class = svc.predict(test_data['tag_probs'])"
   ]
  },
  {
   "cell_type": "code",
   "execution_count": 16,
   "id": "217087a8-1ccb-408f-9efc-68acdf54dc24",
   "metadata": {},
   "outputs": [
    {
     "name": "stdout",
     "output_type": "stream",
     "text": [
      "confusion_matrix:\n",
      "[[38220  2071   407]\n",
      " [ 2623 11715   181]\n",
      " [ 1348   797  2345]]\n",
      "accuracy_score: 0.8756092250489892\n",
      "precision_score: 0.8362452405559319\n",
      "recall_score: 0.7560859845526466\n",
      "f1_score: 0.7863721599938748\n"
     ]
    }
   ],
   "source": [
    "from sklearn.metrics import confusion_matrix, accuracy_score, precision_score, recall_score, f1_score\n",
    "print('confusion_matrix:')\n",
    "print(confusion_matrix(test_data[\"class\"], predicted_class))\n",
    "print(f'accuracy_score: {accuracy_score(test_data[\"class\"], predicted_class)}')\n",
    "print(f'precision_score: {precision_score(test_data[\"class\"], predicted_class, average=\"macro\")}')\n",
    "print(f'recall_score: {recall_score(test_data[\"class\"], predicted_class, average=\"macro\")}')\n",
    "print(f'f1_score: {f1_score(test_data[\"class\"], predicted_class, average=\"macro\")}')"
   ]
  },
  {
   "cell_type": "code",
   "execution_count": 26,
   "id": "a8d5abfa-68f6-4c8a-9e41-dd520f533ced",
   "metadata": {},
   "outputs": [
    {
     "name": "stdout",
     "output_type": "stream",
     "text": [
      "danbooru/5744585.jpg\n",
      "danbooru/3822756.jpg\n",
      "danbooru/1381355.jpg\n",
      "danbooru/1195304.jpg\n",
      "danbooru/4108633.jpg\n",
      "danbooru/5328907.jpg\n",
      "danbooru/1381369.jpg\n",
      "danbooru/4030194.jpg\n",
      "danbooru/1267625.jpg\n",
      "danbooru/4280681.jpg\n",
      "danbooru/2925207.jpg\n",
      "danbooru/4732911.jpg\n",
      "danbooru/4280678.jpg\n",
      "danbooru/4266904.jpg\n",
      "danbooru/4520274.jpg\n",
      "danbooru/5329549.jpg\n",
      "danbooru/5615702.jpg\n",
      "danbooru/3718886.jpg\n",
      "danbooru/5484267.jpg\n",
      "danbooru/3314977.jpg\n",
      "danbooru/4268406.jpg\n",
      "danbooru/5576409.jpg\n",
      "danbooru/3981263.jpg\n",
      "danbooru/3861207.jpg\n",
      "danbooru/5030083.jpg\n",
      "danbooru/1747362.jpg\n",
      "danbooru/1957957.jpg\n",
      "danbooru/3755506.jpg\n",
      "danbooru/5957548.jpg\n",
      "danbooru/2786053.jpg\n",
      "danbooru/5743517.jpg\n",
      "danbooru/3859159.jpg\n",
      "danbooru/5128402.jpg\n",
      "danbooru/1381282.jpg\n",
      "danbooru/3489479.jpg\n",
      "danbooru/3314978.jpg\n",
      "danbooru/5030074.jpg\n",
      "danbooru/2793645.jpg\n",
      "danbooru/5331042.jpg\n",
      "danbooru/1260793.jpg\n",
      "danbooru/2793647.jpg\n",
      "danbooru/3998739.jpg\n",
      "danbooru/5538230.jpg\n",
      "danbooru/3315861.jpg\n",
      "danbooru/4110517.jpg\n",
      "danbooru/4276929.jpg\n",
      "danbooru/4170131.jpg\n",
      "danbooru/2924799.jpg\n",
      "danbooru/5273153.jpg\n",
      "danbooru/5029016.jpg\n",
      "danbooru/5745054.jpg\n",
      "danbooru/5296491.jpg\n",
      "danbooru/4328226.jpg\n",
      "danbooru/5029015.jpg\n",
      "danbooru/2537218.jpg\n",
      "danbooru/3115397.jpg\n",
      "danbooru/4174203.jpg\n",
      "danbooru/5743518.jpg\n",
      "danbooru/5484726.jpg\n",
      "danbooru/5484352.jpg\n",
      "danbooru/4732908.jpg\n",
      "danbooru/5332022.jpg\n",
      "danbooru/2926805.jpg\n",
      "danbooru/5030088.jpg\n",
      "danbooru/3769267.jpg\n",
      "danbooru/2910329.jpg\n",
      "danbooru/4002788.jpg\n",
      "danbooru/4267045.jpg\n",
      "danbooru/3258317.jpg\n",
      "danbooru/4033529.jpg\n",
      "danbooru/2537604.jpg\n",
      "danbooru/5579329.jpg\n",
      "danbooru/3605944.jpg\n",
      "danbooru/5332335.jpg\n",
      "danbooru/5030098.jpg\n",
      "danbooru/3620278.jpg\n",
      "danbooru/3619574.jpg\n",
      "danbooru/2597185.jpg\n",
      "danbooru/5955647.jpg\n",
      "danbooru/5173504.jpg\n",
      "danbooru/5538229.jpg\n",
      "danbooru/5743512.jpg\n",
      "danbooru/4000882.jpg\n",
      "danbooru/3352857.jpg\n",
      "danbooru/1262433.jpg\n",
      "danbooru/5028861.jpg\n",
      "danbooru/3903814.jpg\n",
      "danbooru/3791472.jpg\n",
      "danbooru/5029010.jpg\n",
      "danbooru/4813885.jpg\n",
      "danbooru/3822709.jpg\n",
      "danbooru/3601359.jpg\n",
      "danbooru/4111432.jpg\n",
      "danbooru/2910332.jpg\n",
      "danbooru/5960168.jpg\n",
      "danbooru/2910341.jpg\n",
      "danbooru/3491860.jpg\n",
      "danbooru/4034052.jpg\n",
      "danbooru/5029022.jpg\n",
      "danbooru/4277270.jpg\n"
     ]
    }
   ],
   "source": [
    "test_data_cat0 = list(filter(lambda res: res[1] == 0, zip(svc.decision_function(test_data['tag_probs']), test_data['class'], test_data['key'])))\n",
    "validation_data_cat0 = list(filter(lambda res: res[1] == 0, zip(svc.decision_function(validation_data['tag_probs']), validation_data['class'], validation_data['key'])))\n",
    "print('\\n'.join(list(map(lambda res: res[2], sorted(test_data_cat0 + validation_data_cat0, key=lambda res: -res[0][2])[:100]))))"
   ]
  },
  {
   "cell_type": "code",
   "execution_count": 25,
   "id": "e8e03552-0da2-4240-93aa-3e397cedb3b5",
   "metadata": {},
   "outputs": [
    {
     "data": {
      "text/plain": [
       "588"
      ]
     },
     "execution_count": 25,
     "metadata": {},
     "output_type": "execute_result"
    }
   ],
   "source": [
    "len(list(filter(lambda tup: tup[0] == 2 and tup[1] != 2, zip(predicted_class, test_data['class'], test_data['key']))))"
   ]
  },
  {
   "cell_type": "code",
   "execution_count": 58,
   "id": "4966e385-331c-485a-a3ce-f92bf92f275c",
   "metadata": {},
   "outputs": [
    {
     "data": {
      "text/plain": [
       "['sklearn-multiclass-svc.joblib']"
      ]
     },
     "execution_count": 58,
     "metadata": {},
     "output_type": "execute_result"
    }
   ],
   "source": [
    "from joblib import dump\n",
    "dump(svc, 'sklearn-multiclass-linear-svc.joblib')"
   ]
  }
 ],
 "metadata": {
  "kernelspec": {
   "display_name": "Python 3 (ipykernel)",
   "language": "python",
   "name": "python3"
  },
  "language_info": {
   "codemirror_mode": {
    "name": "ipython",
    "version": 3
   },
   "file_extension": ".py",
   "mimetype": "text/x-python",
   "name": "python",
   "nbconvert_exporter": "python",
   "pygments_lexer": "ipython3",
   "version": "3.10.11"
  }
 },
 "nbformat": 4,
 "nbformat_minor": 5
}
