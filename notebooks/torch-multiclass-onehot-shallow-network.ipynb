{
 "cells": [
  {
   "cell_type": "code",
   "execution_count": 1,
   "id": "5fd345a4-f4f7-400d-b4eb-4a6397a53ad8",
   "metadata": {
    "tags": []
   },
   "outputs": [
    {
     "data": {
      "text/plain": [
       "True"
      ]
     },
     "execution_count": 1,
     "metadata": {},
     "output_type": "execute_result"
    }
   ],
   "source": [
    "import torch\n",
    "torch.cuda.is_available()"
   ]
  },
  {
   "cell_type": "code",
   "execution_count": 2,
   "id": "c96b39be-7d93-4e7c-8e4e-10d5c028b8df",
   "metadata": {
    "tags": []
   },
   "outputs": [
    {
     "name": "stdout",
     "output_type": "stream",
     "text": [
      "Token will not been saved to git credential helper. Pass `add_to_git_credential=True` if you want to set the git credential as well.\n",
      "Token is valid (permission: write).\n",
      "Your token has been saved to /home/hakatashi/.cache/huggingface/token\n",
      "Login successful\n"
     ]
    }
   ],
   "source": [
    "from huggingface_hub import login\n",
    "from dotenv import dotenv_values\n",
    "\n",
    "login(token=dotenv_values('.env')['HUGGING_FACE_TOKEN'])"
   ]
  },
  {
   "cell_type": "code",
   "execution_count": 3,
   "id": "427c7773-5047-4bbc-a9f7-ce24a46f963f",
   "metadata": {
    "tags": []
   },
   "outputs": [
    {
     "name": "stderr",
     "output_type": "stream",
     "text": [
      "Found cached dataset parquet (/mnt/f/.cache/hakatashi___parquet/hakatashi--hakatashi-pixiv-bookmark-deepdanbooru-private-dc6bd44c53eea7d4/0.0.0/2a3b91fbd88a2c90d1dbbb32b460cf621d31bd5b05b934492fdef7d8d6f236ec)\n"
     ]
    },
    {
     "data": {
      "application/vnd.jupyter.widget-view+json": {
       "model_id": "9a2eaba1c57441789c93714e72e8311a",
       "version_major": 2,
       "version_minor": 0
      },
      "text/plain": [
       "  0%|          | 0/3 [00:00<?, ?it/s]"
      ]
     },
     "metadata": {},
     "output_type": "display_data"
    }
   ],
   "source": [
    "from datasets import load_dataset\n",
    "\n",
    "dataset = load_dataset(\"hakatashi/hakatashi-pixiv-bookmark-deepdanbooru-private\", cache_dir='/mnt/f/.cache')"
   ]
  },
  {
   "cell_type": "code",
   "execution_count": 4,
   "id": "fe8ce974-0102-485d-be97-691ff7e776e5",
   "metadata": {
    "tags": []
   },
   "outputs": [
    {
     "data": {
      "text/plain": [
       "DatasetDict({\n",
       "    train: Dataset({\n",
       "        features: ['key', 'tag_probs', 'class'],\n",
       "        num_rows: 179121\n",
       "    })\n",
       "    validation: Dataset({\n",
       "        features: ['key', 'tag_probs', 'class'],\n",
       "        num_rows: 59708\n",
       "    })\n",
       "    test: Dataset({\n",
       "        features: ['key', 'tag_probs', 'class'],\n",
       "        num_rows: 59707\n",
       "    })\n",
       "})"
      ]
     },
     "execution_count": 4,
     "metadata": {},
     "output_type": "execute_result"
    }
   ],
   "source": [
    "dataset"
   ]
  },
  {
   "cell_type": "code",
   "execution_count": 5,
   "id": "5dc151d1-2424-418b-a76b-16009e5e1270",
   "metadata": {
    "tags": []
   },
   "outputs": [],
   "source": [
    "device = torch.device('cuda')\n",
    "torch_dataset = dataset.with_format(type='torch', device=device)"
   ]
  },
  {
   "cell_type": "code",
   "execution_count": 6,
   "id": "a9a1b556-6069-4dfb-8420-603c45de4b3b",
   "metadata": {
    "tags": []
   },
   "outputs": [],
   "source": [
    "import torch.nn.functional as F"
   ]
  },
  {
   "cell_type": "code",
   "execution_count": 7,
   "id": "cd9db4e1-6701-4c88-9a9f-48f70f267de6",
   "metadata": {
    "tags": []
   },
   "outputs": [],
   "source": [
    "x = torch_dataset['train']['tag_probs']\n",
    "y = F.one_hot(torch_dataset['train']['class']).float()"
   ]
  },
  {
   "cell_type": "code",
   "execution_count": 8,
   "id": "92af5b9d-964d-458b-adeb-ca8bc1055800",
   "metadata": {
    "tags": []
   },
   "outputs": [
    {
     "name": "stdout",
     "output_type": "stream",
     "text": [
      "[Epoch 0] Loss: 0.358\n",
      "[Epoch 100] Loss: 0.187\n",
      "[Epoch 200] Loss: 0.161\n",
      "[Epoch 300] Loss: 0.158\n",
      "[Epoch 400] Loss: 0.157\n",
      "[Epoch 500] Loss: 0.156\n",
      "[Epoch 600] Loss: 0.156\n",
      "[Epoch 700] Loss: 0.155\n",
      "[Epoch 800] Loss: 0.154\n",
      "[Epoch 900] Loss: 0.153\n",
      "[Epoch 1000] Loss: 0.152\n",
      "[Epoch 1100] Loss: 0.151\n",
      "[Epoch 1200] Loss: 0.149\n",
      "[Epoch 1300] Loss: 0.148\n",
      "[Epoch 1400] Loss: 0.145\n",
      "[Epoch 1500] Loss: 0.143\n",
      "[Epoch 1600] Loss: 0.140\n",
      "[Epoch 1700] Loss: 0.137\n",
      "[Epoch 1800] Loss: 0.133\n",
      "[Epoch 1900] Loss: 0.129\n",
      "[Epoch 2000] Loss: 0.125\n",
      "[Epoch 2100] Loss: 0.120\n",
      "[Epoch 2200] Loss: 0.116\n",
      "[Epoch 2300] Loss: 0.113\n",
      "[Epoch 2400] Loss: 0.110\n",
      "[Epoch 2500] Loss: 0.108\n",
      "[Epoch 2600] Loss: 0.106\n",
      "[Epoch 2700] Loss: 0.104\n",
      "[Epoch 2800] Loss: 0.103\n",
      "[Epoch 2900] Loss: 0.102\n",
      "[Epoch 3000] Loss: 0.101\n",
      "[Epoch 3100] Loss: 0.101\n",
      "[Epoch 3200] Loss: 0.100\n",
      "[Epoch 3300] Loss: 0.099\n",
      "[Epoch 3400] Loss: 0.099\n",
      "[Epoch 3500] Loss: 0.098\n",
      "[Epoch 3600] Loss: 0.098\n",
      "[Epoch 3700] Loss: 0.098\n",
      "[Epoch 3800] Loss: 0.097\n",
      "[Epoch 3900] Loss: 0.097\n",
      "[Epoch 4000] Loss: 0.097\n",
      "[Epoch 4100] Loss: 0.096\n",
      "[Epoch 4200] Loss: 0.096\n",
      "[Epoch 4300] Loss: 0.096\n",
      "[Epoch 4400] Loss: 0.095\n",
      "[Epoch 4500] Loss: 0.095\n",
      "[Epoch 4600] Loss: 0.095\n",
      "[Epoch 4700] Loss: 0.094\n",
      "[Epoch 4800] Loss: 0.094\n",
      "[Epoch 4900] Loss: 0.094\n",
      "[Epoch 5000] Loss: 0.094\n",
      "[Epoch 5100] Loss: 0.093\n",
      "[Epoch 5200] Loss: 0.093\n",
      "[Epoch 5300] Loss: 0.093\n",
      "[Epoch 5400] Loss: 0.093\n",
      "[Epoch 5500] Loss: 0.092\n",
      "[Epoch 5600] Loss: 0.092\n",
      "[Epoch 5700] Loss: 0.092\n",
      "[Epoch 5800] Loss: 0.092\n",
      "[Epoch 5900] Loss: 0.092\n",
      "[Epoch 6000] Loss: 0.091\n",
      "[Epoch 6100] Loss: 0.091\n",
      "[Epoch 6200] Loss: 0.091\n",
      "[Epoch 6300] Loss: 0.091\n",
      "[Epoch 6400] Loss: 0.090\n",
      "[Epoch 6500] Loss: 0.090\n",
      "[Epoch 6600] Loss: 0.090\n",
      "[Epoch 6700] Loss: 0.090\n",
      "[Epoch 6800] Loss: 0.089\n",
      "[Epoch 6900] Loss: 0.089\n",
      "[Epoch 7000] Loss: 0.089\n",
      "[Epoch 7100] Loss: 0.089\n",
      "[Epoch 7200] Loss: 0.088\n",
      "[Epoch 7300] Loss: 0.088\n",
      "[Epoch 7400] Loss: 0.088\n",
      "[Epoch 7500] Loss: 0.088\n",
      "[Epoch 7600] Loss: 0.088\n",
      "[Epoch 7700] Loss: 0.087\n",
      "[Epoch 7800] Loss: 0.087\n",
      "[Epoch 7900] Loss: 0.087\n",
      "[Epoch 8000] Loss: 0.087\n",
      "[Epoch 8100] Loss: 0.086\n",
      "[Epoch 8200] Loss: 0.086\n",
      "[Epoch 8300] Loss: 0.086\n",
      "[Epoch 8400] Loss: 0.086\n",
      "[Epoch 8500] Loss: 0.085\n",
      "[Epoch 8600] Loss: 0.085\n",
      "[Epoch 8700] Loss: 0.085\n",
      "[Epoch 8800] Loss: 0.085\n",
      "[Epoch 8900] Loss: 0.084\n",
      "[Epoch 9000] Loss: 0.084\n",
      "[Epoch 9100] Loss: 0.084\n",
      "[Epoch 9200] Loss: 0.084\n",
      "[Epoch 9300] Loss: 0.084\n",
      "[Epoch 9400] Loss: 0.083\n",
      "[Epoch 9500] Loss: 0.083\n",
      "[Epoch 9600] Loss: 0.083\n",
      "[Epoch 9700] Loss: 0.083\n",
      "[Epoch 9800] Loss: 0.083\n",
      "[Epoch 9900] Loss: 0.082\n",
      "[Epoch 10000] Loss: 0.082\n",
      "[Epoch 10100] Loss: 0.082\n",
      "[Epoch 10200] Loss: 0.082\n",
      "[Epoch 10300] Loss: 0.082\n",
      "[Epoch 10400] Loss: 0.081\n",
      "[Epoch 10500] Loss: 0.081\n",
      "[Epoch 10600] Loss: 0.081\n",
      "[Epoch 10700] Loss: 0.081\n",
      "[Epoch 10800] Loss: 0.081\n",
      "[Epoch 10900] Loss: 0.081\n",
      "[Epoch 11000] Loss: 0.080\n",
      "[Epoch 11100] Loss: 0.080\n",
      "[Epoch 11200] Loss: 0.080\n",
      "[Epoch 11300] Loss: 0.080\n",
      "[Epoch 11400] Loss: 0.080\n",
      "[Epoch 11500] Loss: 0.080\n",
      "[Epoch 11600] Loss: 0.080\n",
      "[Epoch 11700] Loss: 0.079\n",
      "[Epoch 11800] Loss: 0.079\n",
      "[Epoch 11900] Loss: 0.079\n",
      "[Epoch 12000] Loss: 0.079\n",
      "[Epoch 12100] Loss: 0.079\n",
      "[Epoch 12200] Loss: 0.079\n",
      "[Epoch 12300] Loss: 0.079\n",
      "[Epoch 12400] Loss: 0.078\n",
      "[Epoch 12500] Loss: 0.078\n",
      "[Epoch 12600] Loss: 0.078\n",
      "[Epoch 12700] Loss: 0.078\n",
      "[Epoch 12800] Loss: 0.078\n",
      "[Epoch 12900] Loss: 0.078\n",
      "[Epoch 13000] Loss: 0.078\n",
      "[Epoch 13100] Loss: 0.078\n",
      "[Epoch 13200] Loss: 0.078\n",
      "[Epoch 13300] Loss: 0.077\n",
      "[Epoch 13400] Loss: 0.077\n",
      "[Epoch 13500] Loss: 0.077\n",
      "[Epoch 13600] Loss: 0.077\n",
      "[Epoch 13700] Loss: 0.077\n",
      "[Epoch 13800] Loss: 0.077\n",
      "[Epoch 13900] Loss: 0.077\n",
      "[Epoch 14000] Loss: 0.077\n",
      "[Epoch 14100] Loss: 0.077\n",
      "[Epoch 14200] Loss: 0.076\n",
      "[Epoch 14300] Loss: 0.076\n",
      "[Epoch 14400] Loss: 0.076\n",
      "[Epoch 14500] Loss: 0.076\n",
      "[Epoch 14600] Loss: 0.076\n",
      "[Epoch 14700] Loss: 0.076\n",
      "[Epoch 14800] Loss: 0.076\n",
      "[Epoch 14900] Loss: 0.076\n",
      "[Epoch 15000] Loss: 0.076\n",
      "[Epoch 15100] Loss: 0.076\n",
      "[Epoch 15200] Loss: 0.076\n",
      "[Epoch 15300] Loss: 0.075\n",
      "[Epoch 15400] Loss: 0.075\n",
      "[Epoch 15500] Loss: 0.075\n",
      "[Epoch 15600] Loss: 0.075\n",
      "[Epoch 15700] Loss: 0.075\n",
      "[Epoch 15800] Loss: 0.075\n",
      "[Epoch 15900] Loss: 0.075\n",
      "[Epoch 16000] Loss: 0.075\n",
      "[Epoch 16100] Loss: 0.075\n",
      "[Epoch 16200] Loss: 0.075\n",
      "[Epoch 16300] Loss: 0.075\n",
      "[Epoch 16400] Loss: 0.075\n",
      "[Epoch 16500] Loss: 0.075\n",
      "[Epoch 16600] Loss: 0.074\n",
      "[Epoch 16700] Loss: 0.074\n",
      "[Epoch 16800] Loss: 0.074\n",
      "[Epoch 16900] Loss: 0.074\n",
      "[Epoch 17000] Loss: 0.074\n",
      "[Epoch 17100] Loss: 0.074\n",
      "[Epoch 17200] Loss: 0.074\n",
      "[Epoch 17300] Loss: 0.074\n",
      "[Epoch 17400] Loss: 0.074\n",
      "[Epoch 17500] Loss: 0.074\n",
      "[Epoch 17600] Loss: 0.074\n",
      "[Epoch 17700] Loss: 0.074\n",
      "[Epoch 17800] Loss: 0.074\n",
      "[Epoch 17900] Loss: 0.074\n",
      "[Epoch 18000] Loss: 0.074\n",
      "[Epoch 18100] Loss: 0.073\n",
      "[Epoch 18200] Loss: 0.073\n",
      "[Epoch 18300] Loss: 0.073\n",
      "[Epoch 18400] Loss: 0.073\n",
      "[Epoch 18500] Loss: 0.073\n",
      "[Epoch 18600] Loss: 0.073\n",
      "[Epoch 18700] Loss: 0.073\n",
      "[Epoch 18800] Loss: 0.073\n",
      "[Epoch 18900] Loss: 0.073\n",
      "[Epoch 19000] Loss: 0.073\n",
      "[Epoch 19100] Loss: 0.073\n",
      "[Epoch 19200] Loss: 0.073\n",
      "[Epoch 19300] Loss: 0.073\n",
      "[Epoch 19400] Loss: 0.073\n",
      "[Epoch 19500] Loss: 0.073\n",
      "[Epoch 19600] Loss: 0.073\n",
      "[Epoch 19700] Loss: 0.073\n",
      "[Epoch 19800] Loss: 0.073\n",
      "[Epoch 19900] Loss: 0.072\n",
      "[Epoch 20000] Loss: 0.072\n",
      "[Epoch 20100] Loss: 0.072\n",
      "[Epoch 20200] Loss: 0.072\n",
      "[Epoch 20300] Loss: 0.072\n",
      "[Epoch 20400] Loss: 0.072\n",
      "[Epoch 20500] Loss: 0.072\n",
      "[Epoch 20600] Loss: 0.072\n",
      "[Epoch 20700] Loss: 0.072\n",
      "[Epoch 20800] Loss: 0.072\n",
      "[Epoch 20900] Loss: 0.072\n",
      "[Epoch 21000] Loss: 0.072\n",
      "[Epoch 21100] Loss: 0.072\n",
      "[Epoch 21200] Loss: 0.072\n",
      "[Epoch 21300] Loss: 0.072\n",
      "[Epoch 21400] Loss: 0.072\n",
      "[Epoch 21500] Loss: 0.072\n",
      "[Epoch 21600] Loss: 0.072\n",
      "[Epoch 21700] Loss: 0.072\n",
      "[Epoch 21800] Loss: 0.072\n",
      "[Epoch 21900] Loss: 0.072\n",
      "[Epoch 22000] Loss: 0.072\n",
      "[Epoch 22100] Loss: 0.072\n",
      "[Epoch 22200] Loss: 0.071\n",
      "[Epoch 22300] Loss: 0.071\n",
      "[Epoch 22400] Loss: 0.071\n",
      "[Epoch 22500] Loss: 0.071\n",
      "[Epoch 22600] Loss: 0.071\n",
      "[Epoch 22700] Loss: 0.071\n",
      "[Epoch 22800] Loss: 0.071\n",
      "[Epoch 22900] Loss: 0.071\n",
      "[Epoch 23000] Loss: 0.071\n",
      "[Epoch 23100] Loss: 0.071\n",
      "[Epoch 23200] Loss: 0.071\n",
      "[Epoch 23300] Loss: 0.071\n",
      "[Epoch 23400] Loss: 0.071\n",
      "[Epoch 23500] Loss: 0.071\n",
      "[Epoch 23600] Loss: 0.071\n",
      "[Epoch 23700] Loss: 0.071\n",
      "[Epoch 23800] Loss: 0.071\n",
      "[Epoch 23900] Loss: 0.071\n",
      "[Epoch 24000] Loss: 0.071\n",
      "[Epoch 24100] Loss: 0.071\n",
      "[Epoch 24200] Loss: 0.071\n",
      "[Epoch 24300] Loss: 0.071\n",
      "[Epoch 24400] Loss: 0.071\n",
      "[Epoch 24500] Loss: 0.071\n",
      "[Epoch 24600] Loss: 0.071\n",
      "[Epoch 24700] Loss: 0.071\n",
      "[Epoch 24800] Loss: 0.071\n",
      "[Epoch 24900] Loss: 0.071\n",
      "[Epoch 25000] Loss: 0.070\n",
      "[Epoch 25100] Loss: 0.070\n",
      "[Epoch 25200] Loss: 0.070\n",
      "[Epoch 25300] Loss: 0.070\n",
      "[Epoch 25400] Loss: 0.070\n",
      "[Epoch 25500] Loss: 0.070\n",
      "[Epoch 25600] Loss: 0.070\n",
      "[Epoch 25700] Loss: 0.070\n",
      "[Epoch 25800] Loss: 0.070\n",
      "[Epoch 25900] Loss: 0.070\n",
      "[Epoch 26000] Loss: 0.070\n",
      "[Epoch 26100] Loss: 0.070\n",
      "[Epoch 26200] Loss: 0.070\n",
      "[Epoch 26300] Loss: 0.070\n",
      "[Epoch 26400] Loss: 0.070\n",
      "[Epoch 26500] Loss: 0.070\n",
      "[Epoch 26600] Loss: 0.070\n",
      "[Epoch 26700] Loss: 0.070\n",
      "[Epoch 26800] Loss: 0.070\n",
      "[Epoch 26900] Loss: 0.070\n",
      "[Epoch 27000] Loss: 0.070\n",
      "[Epoch 27100] Loss: 0.070\n",
      "[Epoch 27200] Loss: 0.070\n",
      "[Epoch 27300] Loss: 0.070\n",
      "[Epoch 27400] Loss: 0.070\n",
      "[Epoch 27500] Loss: 0.070\n",
      "[Epoch 27600] Loss: 0.070\n",
      "[Epoch 27700] Loss: 0.070\n",
      "[Epoch 27800] Loss: 0.070\n",
      "[Epoch 27900] Loss: 0.070\n",
      "[Epoch 28000] Loss: 0.070\n",
      "[Epoch 28100] Loss: 0.070\n",
      "[Epoch 28200] Loss: 0.070\n",
      "[Epoch 28300] Loss: 0.069\n",
      "[Epoch 28400] Loss: 0.069\n",
      "[Epoch 28500] Loss: 0.069\n",
      "[Epoch 28600] Loss: 0.069\n",
      "[Epoch 28700] Loss: 0.069\n",
      "[Epoch 28800] Loss: 0.069\n",
      "[Epoch 28900] Loss: 0.069\n",
      "[Epoch 29000] Loss: 0.069\n",
      "[Epoch 29100] Loss: 0.069\n",
      "[Epoch 29200] Loss: 0.069\n",
      "[Epoch 29300] Loss: 0.069\n",
      "[Epoch 29400] Loss: 0.069\n",
      "[Epoch 29500] Loss: 0.069\n",
      "[Epoch 29600] Loss: 0.069\n",
      "[Epoch 29700] Loss: 0.069\n",
      "[Epoch 29800] Loss: 0.069\n",
      "[Epoch 29900] Loss: 0.069\n",
      "CPU times: user 2h 6min 30s, sys: 1h 46min 10s, total: 3h 52min 40s\n",
      "Wall time: 3h 52min 25s\n"
     ]
    }
   ],
   "source": [
    "%%time\n",
    "\n",
    "import torch.nn as nn\n",
    "import torch.optim as optim\n",
    "\n",
    "class Network(nn.Module):\n",
    "    def __init__(self):\n",
    "        super(Network, self).__init__()\n",
    "        self.middle1_layer = nn.Linear(6000, 512, device=device)\n",
    "        self.middle2_layer = nn.Linear(512, 128, device=device)\n",
    "        self.middle3_layer = nn.Linear(128, 128, device=device)\n",
    "        self.out_layer = nn.Linear(128, 3, device=device)\n",
    "\n",
    "    def forward(self, x):\n",
    "        x = F.relu(self.middle1_layer(x))\n",
    "        x = F.relu(self.middle2_layer(x))\n",
    "        x = F.relu(self.middle3_layer(x))\n",
    "        x = self.out_layer(x)\n",
    "        return x\n",
    "\n",
    "network = Network()\n",
    "optimizer = optim.SGD(network.parameters(), lr=0.01)\n",
    "criterion = nn.MSELoss()\n",
    "\n",
    "for i in range(30000):\n",
    "    optimizer.zero_grad()\n",
    "    output = network(x)\n",
    "    loss = criterion(output, y)\n",
    "    loss.backward()\n",
    "    optimizer.step()\n",
    "    \n",
    "    if i % 100 == 0:\n",
    "        print(f'[Epoch {i}] Loss: {loss.item():.3f}')"
   ]
  },
  {
   "cell_type": "code",
   "execution_count": 9,
   "id": "6c576949-e250-4a7c-acb4-7dd3fec8a303",
   "metadata": {
    "tags": []
   },
   "outputs": [],
   "source": [
    "torch.save(network.state_dict(), 'torch-multiclass-onehot-shallow-network-multilayer')"
   ]
  },
  {
   "cell_type": "code",
   "execution_count": 10,
   "id": "ee09a4f1-82e5-4521-b4ef-32662390ecb0",
   "metadata": {
    "tags": []
   },
   "outputs": [],
   "source": [
    "x_test = torch_dataset['test']['tag_probs']\n",
    "y_test = torch_dataset['test']['class']"
   ]
  },
  {
   "cell_type": "code",
   "execution_count": 11,
   "id": "9f2edfd1-2071-40a1-bc2a-40ff9bf0f5c9",
   "metadata": {
    "tags": []
   },
   "outputs": [],
   "source": [
    "y_test_predict = network(x_test)"
   ]
  },
  {
   "cell_type": "code",
   "execution_count": 12,
   "id": "ed5c4873-783d-4a5f-b413-4586cb1eed00",
   "metadata": {
    "tags": []
   },
   "outputs": [],
   "source": [
    "_, y_test_predict_class = torch.max(y_test_predict.data, 1)"
   ]
  },
  {
   "cell_type": "code",
   "execution_count": 13,
   "id": "9065c79e-4154-4109-9193-148966274dd6",
   "metadata": {
    "tags": []
   },
   "outputs": [
    {
     "name": "stdout",
     "output_type": "stream",
     "text": [
      "confusion_matrix:\n",
      "tensor([[37909,  2365,   424],\n",
      "        [ 3071, 11244,   204],\n",
      "        [ 1607,   756,  2127]], device='cuda:0')\n",
      "accuracy_score: 0.8588607311248779\n",
      "precision_score: 0.8149803876876831\n",
      "recall_score: 0.7265412211418152\n",
      "f1_score: 0.7586900591850281\n"
     ]
    }
   ],
   "source": [
    "from torcheval.metrics.functional import multiclass_accuracy, multiclass_confusion_matrix, multiclass_precision, multiclass_f1_score, multiclass_recall\n",
    "\n",
    "print('confusion_matrix:')\n",
    "print(multiclass_confusion_matrix(y_test_predict_class, y_test, num_classes=3))\n",
    "print(f'accuracy_score: {multiclass_accuracy(y_test_predict_class, y_test)}')\n",
    "print(f'precision_score: {multiclass_precision(y_test_predict_class, y_test, average=\"macro\", num_classes=3)}')\n",
    "print(f'recall_score: {multiclass_recall(y_test_predict_class, y_test, average=\"macro\", num_classes=3)}')\n",
    "print(f'f1_score: {multiclass_f1_score(y_test_predict_class, y_test, average=\"macro\", num_classes=3)}')"
   ]
  },
  {
   "cell_type": "code",
   "execution_count": null,
   "id": "12f22851-4562-4f14-8739-af00be5b4ffa",
   "metadata": {},
   "outputs": [],
   "source": []
  }
 ],
 "metadata": {
  "kernelspec": {
   "display_name": "Python 3 (ipykernel)",
   "language": "python",
   "name": "python3"
  },
  "language_info": {
   "codemirror_mode": {
    "name": "ipython",
    "version": 3
   },
   "file_extension": ".py",
   "mimetype": "text/x-python",
   "name": "python",
   "nbconvert_exporter": "python",
   "pygments_lexer": "ipython3",
   "version": "3.11.4"
  }
 },
 "nbformat": 4,
 "nbformat_minor": 5
}
